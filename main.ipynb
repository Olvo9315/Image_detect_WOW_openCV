{
 "cells": [
  {
   "cell_type": "code",
   "execution_count": null,
   "metadata": {},
   "outputs": [],
   "source": [
    "import keyboard\n",
    "import pyautogui as pg \n",
    "import PIL\n",
    "from PIL import Image\n",
    "import cv2\n",
    "import numpy as np  \n",
    "import os\n",
    "import time"
   ]
  }
 ],
 "metadata": {
  "interpreter": {
   "hash": "1ab5c486e60407867d311ff245b5d1e92e45fdc703c18a6811716ba26e071797"
  },
  "kernelspec": {
   "display_name": "Python 3.10.4 64-bit",
   "language": "python",
   "name": "python3"
  },
  "language_info": {
   "codemirror_mode": {
    "name": "ipython",
    "version": 3
   },
   "file_extension": ".py",
   "mimetype": "text/x-python",
   "name": "python",
   "nbconvert_exporter": "python",
   "pygments_lexer": "ipython3",
   "version": "3.10.4"
  },
  "orig_nbformat": 4
 },
 "nbformat": 4,
 "nbformat_minor": 2
}
