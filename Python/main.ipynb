{
 "cells": [
  {
   "cell_type": "code",
   "execution_count": 23,
   "metadata": {},
   "outputs": [],
   "source": [
    "import numpy as np\n",
    "import cv2\n",
    "from mss import mss\n",
    "from PIL import Image\n",
    "import pyautogui\n",
    "\n",
    "sct = mss()\n",
    "img1 = cv2.imread('img1.png',0)          # queryImage\n",
    "# img2 = cv2.imread('capt1.png',0) # trainImage\n",
    "while 1:\n",
    "    # w, h = 800, 640\n",
    "    # monitor = {'top': 0, 'left': 0, 'width': w, 'height': h}\n",
    "    # img = Image.frombytes('RGB', (w,h), sct.grab(monitor).rgb)\n",
    "    # cv2.imshow('test', cv2.cvtColor(np.array(img), cv2.COLOR_RGB2BGR))\n",
    "    img = pyautogui.screenshot(region=(0, 0, 800, 640)) \n",
    "    frame = np.array(img) \n",
    "    frame = cv2.cvtColor(frame, cv2.COLOR_BGR2GRAY) \n",
    "    # cv2.imshow('Grabando', frame)\n",
    "    # cv2.imwrite('captura.png',frame)\n",
    "    # img = cv2.imread('captura.png',0)\n",
    "    # cv2.imshow('1',img)\n",
    "    \n",
    "    w, h = img1.shape[::-1]\n",
    "    detect = cv2.matchTemplate(frame, img1, cv2.TM_CCOEFF_NORMED)\n",
    "    umbral = 0.63\n",
    "    ubi = np.where(detect >= umbral)\n",
    "    for pt in zip (*ubi[::-1]):\n",
    "        cv2.rectangle(frame, pt, (pt[0]+w, pt[1]+h), (50,0,0), 1)\n",
    "        \n",
    "    cv2.imshow('Grabando', frame)\n",
    "    \n",
    "    if cv2.waitKey(25) & 0xFF == ord('q'):\n",
    "        cv2.destroyAllWindows()\n",
    "        break\n",
    "\n",
    "\n"
   ]
  }
 ],
 "metadata": {
  "interpreter": {
   "hash": "1ab5c486e60407867d311ff245b5d1e92e45fdc703c18a6811716ba26e071797"
  },
  "kernelspec": {
   "display_name": "Python 3.10.4 64-bit",
   "language": "python",
   "name": "python3"
  },
  "language_info": {
   "codemirror_mode": {
    "name": "ipython",
    "version": 3
   },
   "file_extension": ".py",
   "mimetype": "text/x-python",
   "name": "python",
   "nbconvert_exporter": "python",
   "pygments_lexer": "ipython3",
   "version": "3.10.4"
  },
  "orig_nbformat": 4
 },
 "nbformat": 4,
 "nbformat_minor": 2
}
